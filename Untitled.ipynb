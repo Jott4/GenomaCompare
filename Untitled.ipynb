{
 "cells": [
  {
   "cell_type": "code",
   "execution_count": 27,
   "metadata": {},
   "outputs": [],
   "source": [
    "import pandas as pd\n",
    "import matplotlib.pyplot as plt"
   ]
  },
  {
   "cell_type": "code",
   "execution_count": 28,
   "metadata": {},
   "outputs": [
    {
     "data": {
      "text/plain": [
       "{'AA': 105,\n",
       " 'AT': 64,\n",
       " 'AC': 86,\n",
       " 'AG': 111,\n",
       " 'TA': 64,\n",
       " 'TT': 57,\n",
       " 'TC': 60,\n",
       " 'TG': 108,\n",
       " 'CA': 83,\n",
       " 'CT': 75,\n",
       " 'CC': 74,\n",
       " 'CG': 97,\n",
       " 'GA': 113,\n",
       " 'GT': 93,\n",
       " 'GC': 109,\n",
       " 'GG': 147}"
      ]
     },
     "execution_count": 28,
     "metadata": {},
     "output_type": "execute_result"
    }
   ],
   "source": [
    "bacteria = open('bacteria.fasta').read()\n",
    "bc = {}\n",
    "for i in ['A','T','C','G']:\n",
    "    for j in ['A','T','C','G']:\n",
    "        bc[i+j] = 0\n",
    "        \n",
    "bacteria = bacteria.replace('\\n', '')\n",
    "for k in range(len(bacteria)-1):\n",
    "    bc[bacteria[k]+bacteria[k+1]] += 1\n",
    "    \n",
    "bc"
   ]
  },
  {
   "cell_type": "code",
   "execution_count": 29,
   "metadata": {},
   "outputs": [
    {
     "data": {
      "text/plain": [
       "{'AA': 116,\n",
       " 'AT': 95,\n",
       " 'AC': 97,\n",
       " 'AG': 113,\n",
       " 'TA': 85,\n",
       " 'TT': 113,\n",
       " 'TC': 109,\n",
       " 'TG': 111,\n",
       " 'CA': 87,\n",
       " 'CT': 105,\n",
       " 'CC': 184,\n",
       " 'CG': 170,\n",
       " 'GA': 134,\n",
       " 'GT': 105,\n",
       " 'GC': 155,\n",
       " 'GG': 184}"
      ]
     },
     "execution_count": 29,
     "metadata": {},
     "output_type": "execute_result"
    }
   ],
   "source": [
    "human = open('human.fasta').read()\n",
    "hm = {}\n",
    "for i in ['A','T','C','G']:\n",
    "    for j in ['A','T','C','G']:\n",
    "        hm[i+j] = 0\n",
    "        \n",
    "human = human.replace('\\n', '')\n",
    "for k in range(len(human)-1):\n",
    "    hm[human[k]+human[k+1]] += 1\n",
    "    \n",
    "hm"
   ]
  },
  {
   "cell_type": "code",
   "execution_count": 30,
   "metadata": {},
   "outputs": [],
   "source": [
    "hum = pd.DataFrame([hm.values()])\n",
    "bac = pd.DataFrame([bc.values()])"
   ]
  },
  {
   "cell_type": "markdown",
   "metadata": {},
   "source": [
    "#hum intersecção bac (quantos pares de genomas os humanos tem == a essa bacteria"
   ]
  },
  {
   "cell_type": "code",
   "execution_count": 48,
   "metadata": {},
   "outputs": [
    {
     "data": {
      "image/png": "[encoded data removed]",
      "text/plain": [
       "<Figure size 432x288 with 1 Axes>"
      ]
     },
     "metadata": {
      "needs_background": "light"
     },
     "output_type": "display_data"
    }
   ],
   "source": [
    "plt.bar(range(len(hm)), list(hm.values()), align='center')\n",
    "plt.xticks(range(len(hm)), list(hm.keys()))\n",
    "\n",
    "plt.bar(range(len(bc)), list(bc.values()), align='center')\n",
    "plt.xticks(range(len(bc)), list(bc.keys()))\n",
    "plt.legend('HB')\n",
    "plt.show()"
   ]
  },
  {
   "cell_type": "code",
   "execution_count": null,
   "metadata": {},
   "outputs": [],
   "source": []
  }
 ],
 "metadata": {
  "kernelspec": {
   "display_name": "Python 3",
   "language": "python",
   "name": "python3"
  },
  "language_info": {
   "codemirror_mode": {
    "name": "ipython",
    "version": 3
   },
   "file_extension": ".py",
   "mimetype": "text/x-python",
   "name": "python",
   "nbconvert_exporter": "python",
   "pygments_lexer": "ipython3",
   "version": "3.7.6"
  }
 },
 "nbformat": 4,
 "nbformat_minor": 4
}
